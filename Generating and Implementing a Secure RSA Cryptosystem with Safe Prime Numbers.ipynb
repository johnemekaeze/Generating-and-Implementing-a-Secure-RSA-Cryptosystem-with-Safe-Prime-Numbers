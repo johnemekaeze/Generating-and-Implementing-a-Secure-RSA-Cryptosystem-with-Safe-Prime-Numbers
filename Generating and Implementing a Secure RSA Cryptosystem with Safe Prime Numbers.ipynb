{
 "cells": [
  {
   "cell_type": "markdown",
   "metadata": {
    "id": "Z_p_5zUceHVW"
   },
   "source": [
    "# Generating and Implementing a Secure RSA Cryptosystem with Safe Prime Numbers\n",
    "\n",
    "We want to do the following in this project:\n",
    "\n",
    "#### 1. Generating RSA Keys\n",
    "\n",
    "1. Select two 600-digit safe primes $p$ and $q$, and compute:\n",
    "   $$ n = p \\times q $$\n",
    "\n",
    "2. Calculate Euler’s totient function:\n",
    "   $$ \\varphi(n) = (p - 1)(q - 1) $$\n",
    "\n",
    "3. Choose a public exponent $e$ and compute the private exponent $d$:\n",
    "   $$ d = e^{-1} \\mod \\varphi(n) $$\n",
    "\n",
    "#### 2. Primality Testing\n",
    "\n",
    "Verify whether the primes are strong pseudoprimes.\n",
    "\n",
    "#### 3 Encrypting a Message\n",
    "\n",
    "1. Convert plaintext into a numeric format.\n",
    "2. Encrypt using RSA encryption formula:\n",
    "   $$ c = m^e \\mod n $$\n",
    "\n",
    "#### 4. Decrypting the Message\n",
    "\n",
    "1. Compute plaintext using RSA decryption formula:\n",
    "   $$ m = c^d \\mod n $$\n",
    "2. Convert the result back into readable text.\n",
    "\n",
    "\n",
    "### Generating the keys\n",
    "\n",
    "We define a function below that generates a safe prime with exactly the specified number of digits. this function calculates the range for numbers with that many digits and then derives the corresponding range for a candidate $\\ell$ such that $p = 2\\ell + 1$ lies within the desired bounds. It randomly selects $\\ell$, verifies that both $\\ell$ and $p$ are prime, and returns $p$ once a valid safe prime is found. In our case we will generate primes with 600 digits."
   ]
  },
  {
   "cell_type": "code",
   "execution_count": 102,
   "metadata": {},
   "outputs": [],
   "source": [
    "import random\n",
    "from sympy import isprime\n",
    "\n",
    "def generate_safe_prime(digits):\n",
    "    \"\"\"\n",
    "    Generates a safe prime with exactly 'digits' digits.\n",
    "    A safe prime p is one where p is prime and (p - 1)//2 is also prime.\n",
    "    \n",
    "    We want p = 2l + 1 to be in the interval [10^(digits-1), 10^digits - 1].\n",
    "    Then, l must be in [ (10^(digits-1) - 1)//2, (10^digits - 1)//2 ].\n",
    "    \"\"\"\n",
    "    lower_bound = 10**(digits - 1)         # smallest number with 'digits' digits\n",
    "    upper_bound = 10**digits - 1             # largest number with 'digits' digits\n",
    "    \n",
    "    # Compute bounds for candidate l\n",
    "    l_lower = (lower_bound - 1) // 2\n",
    "    l_upper = (upper_bound - 1) // 2\n",
    "\n",
    "    while True:\n",
    "        # Pick a random candidate l in the computed range.\n",
    "        l = random.randint(l_lower, l_upper)\n",
    "        if not isprime(l):\n",
    "            continue  # l must be prime\n",
    "        \n",
    "        # Compute p = 2l + 1\n",
    "        p = 2 * l + 1\n",
    "        \n",
    "        # Ensure p is in the required digit range.\n",
    "        if p < lower_bound or p > upper_bound:\n",
    "            continue\n",
    "        \n",
    "        # Check if p is prime.\n",
    "        if isprime(p):\n",
    "            return p\n"
   ]
  },
  {
   "cell_type": "markdown",
   "metadata": {},
   "source": [
    " below we will generate two distinct 600-digit safe primes $p$ and $q$."
   ]
  },
  {
   "cell_type": "code",
   "execution_count": 245,
   "metadata": {},
   "outputs": [
    {
     "name": "stdout",
     "output_type": "stream",
     "text": [
      "First 600-digit safe prime p is:\n",
      "439573107123443334298102516300624473953295060862524822701138949569095925698442704396408486038576164418316495006075544245060464083683536745284383531984961923921752810022215387303376481571844822051749277519254055864472959338143239596103748968919246924518273080289447196381169547300137817622017556127950988262379939487813373932918749457265360242307035379653995804116767136327074289294940279762743467708106230302315917377346995078739368063983799583393715537631076793855440153124527092592814013954493192622953121132700915827401391387357238338271917430670917508477818002130657812031417413317833983471562859\n",
      "Second 600-digit safe prime q is:\n",
      "880020251054224681435359260555370196915600728838472441016488787947568263704085738979018505567898157057309330747655001825672703881290936336103906399616563632864969861529740414994960786827269635344610444048719185609732697098171995117607027058926059157448807599562411570852696425509067968474386823002364078239211822024962555619620573297181565043650070106902866988658462664532350934945501491506076905183321115642475986610662090920463593230794421991064958548607925204467848595865498730138593057327925964377636679725148862263465806198923687099444618103695660700603067538879249048503969988856006658010357363\n"
     ]
    }
   ],
   "source": [
    "# Generate a safe prime with exactly 600 digits.\n",
    "p = generate_safe_prime(600)\n",
    "q = generate_safe_prime(600)\n",
    "print(\"First 600-digit safe prime p is:\")\n",
    "print(p)\n",
    "print(\"Second 600-digit safe prime q is:\")\n",
    "print(q)"
   ]
  },
  {
   "cell_type": "markdown",
   "metadata": {},
   "source": [
    "We will then compute the RSA modulus $n $ as the product of the two safe primes $ p $ and $ q $, calculates Euler's totient $\\phi(n)$ as $(p-1)(q-1)$, and then set the public exponent $ e $ to 65537."
   ]
  },
  {
   "cell_type": "code",
   "execution_count": 246,
   "metadata": {
    "id": "jCYeAJZ_7tqW"
   },
   "outputs": [],
   "source": [
    "# Compute the RSA modulus n = p * q\n",
    "n = p * q\n",
    "\n",
    "# Calculate Euler's totient function φ(n) = (p - 1) * (q - 1)\n",
    "phi_n = (p - 1) * (q - 1)\n",
    "\n",
    "# Choose a public exponent, commonly 65537\n",
    "e = 65537"
   ]
  },
  {
   "cell_type": "markdown",
   "metadata": {},
   "source": [
    "Next, we define a function that implements the extended Euclidean algorithm. In summary, it computes the greatest common divisor (gcd) of two integers $a$ and $b$ and finds integers $u$ and $v$ such that:\n",
    "\n",
    "$$a\\cdot u + b\\cdot v = \\gcd(a,b)$$\n",
    "\n",
    "It does this by iteratively updating remainders and corresponding coefficients until the remainder reaches zero."
   ]
  },
  {
   "cell_type": "code",
   "execution_count": 247,
   "metadata": {},
   "outputs": [],
   "source": [
    "#  Extended Euclidean Algorithm\n",
    "def Extended_Euclidean_Algorithm(a, b):\n",
    "    if a == 0 or b == 0:\n",
    "        return \"Error\"\n",
    "\n",
    "    r0, r1 = a, b\n",
    "    s0, s1 = 1, 0\n",
    "    t0, t1 = 0, 1\n",
    "\n",
    "    while r1 > 0:\n",
    "        q = r0 // r1\n",
    "        r = r0 - q * r1\n",
    "        r0, r1 = r1, r\n",
    "\n",
    "        s = s0 - q * s1\n",
    "        s0, s1 = s1, s\n",
    "\n",
    "        t = t0 - q * t1\n",
    "        t0, t1 = t1, t\n",
    "\n",
    "    gcd = r0\n",
    "    u = s0\n",
    "    v = t0\n",
    "    return gcd, u, v"
   ]
  },
  {
   "cell_type": "markdown",
   "metadata": {},
   "source": [
    "We then use the Extended Euclidean Algorithm to compute the modular inverse of $a$ modulo $n$. Particularly, our function calculates Bob's private key $d$ as the inverse of the public exponent $e$ modulo $\\phi(n)$, ensuring that $e \\times d \\equiv 1 \\pmod{\\phi(n)}$. The result is then printed as Bob's private key."
   ]
  },
  {
   "cell_type": "code",
   "execution_count": 250,
   "metadata": {},
   "outputs": [
    {
     "data": {
      "text/plain": [
       "204911769290815859226617326375099914293939243773641073522085736346200504973058423519943268159802524212554209553148598112286603677779362855630207744794237776498703761815638801926907877801263381473991612767258968246040680974581802542871312841846237315096771727303190725210278283870399153331371301957554116851059091227510020462835494540424168219439349755301391729441322075083353649135279218247493159120196804249063027597793201554869876888303712594881696057513707487528169458225876872841391495930131882174964491749779018750187356668165687677234482721007780916020097407627074062781386211263106896961952692160858103037799170922060400531260766807600524351872679204810344998161323074615685747598946898652439611785837244716685736724214032140335226502376794009276483540040739649184974417816383926860218164468384545441596471469228707016456273200515244315393493456978487363849103990615985796591186366868559501279615738176063840088706376217993732018891787530931490568867460553332708091768708553595936968803526807814413014940872090862216206606367736454989299895038174028473530933408195522320920854850727789533767145056201790649187428596482527989174039504929457596446765045572098162660537390258605574176517763399601"
      ]
     },
     "execution_count": 250,
     "metadata": {},
     "output_type": "execute_result"
    }
   ],
   "source": [
    "def inverse_mod_n(e, phi_n):\n",
    "    gcd, u, v = Extended_Euclidean_Algorithm(e, phi_n)\n",
    "    if gcd == 1:\n",
    "        return u % phi_n\n",
    "    else:\n",
    "        return \"The inverse does not exist.\"  # a and n are not coprime\n",
    "\n",
    "d = inverse_mod_n(e, phi_n)\n",
    "d"
   ]
  },
  {
   "cell_type": "markdown",
   "metadata": {},
   "source": [
    "Below, we display the public key (consisting of $e$ and $n$) and the private key (with $d$ and $n$)."
   ]
  },
  {
   "cell_type": "code",
   "execution_count": 249,
   "metadata": {
    "id": "CookpiI_7-3P"
   },
   "outputs": [
    {
     "name": "stdout",
     "output_type": "stream",
     "text": [
      "=== RSA Key Generation ===\n",
      "Public Key (e, n):\n",
      "e = 65537\n",
      "n = 386833236087458202734612850519786930610724052863034768850585692560229937043994985085451145448466932518670504421151620995648321961937610999810949561314090366355442690347722092461221384591006977522208443539804441811866808072104147748938738037679365563990584419065249756829876941180272765061587769800444295312474353663363412002328891741438492700696988849901696905530473696126793066694860989926430440409619136999390587615986088555752595968105784431696097318852282740238899694197179761937039822236808767199580824282903201746486599664753274377892507607059768921915229974756756332886960137330056363238722595689513783883055856058357285256076387491482365471497314905715523556084013988917664392836606276856420071017242262170384563868748533714568418964228056644328670675524663555315511608754146882080182648254079153945297815681599568350535289144068099705484195248852748245814831533698898870710469266281806945597995889564013381882207631183136996160317124861779328514803418489130183686082841836853135513677981383296604665847899327876497669106219802211411854076749809574180872524889535657451395667930638143309654102374231574342916600716479630203799588742994857517238758706178161049262881936049293910066198707980817\n",
      "\n",
      "Private Key (d, n):\n",
      "d = 204911769290815859226617326375099914293939243773641073522085736346200504973058423519943268159802524212554209553148598112286603677779362855630207744794237776498703761815638801926907877801263381473991612767258968246040680974581802542871312841846237315096771727303190725210278283870399153331371301957554116851059091227510020462835494540424168219439349755301391729441322075083353649135279218247493159120196804249063027597793201554869876888303712594881696057513707487528169458225876872841391495930131882174964491749779018750187356668165687677234482721007780916020097407627074062781386211263106896961952692160858103037799170922060400531260766807600524351872679204810344998161323074615685747598946898652439611785837244716685736724214032140335226502376794009276483540040739649184974417816383926860218164468384545441596471469228707016456273200515244315393493456978487363849103990615985796591186366868559501279615738176063840088706376217993732018891787530931490568867460553332708091768708553595936968803526807814413014940872090862216206606367736454989299895038174028473530933408195522320920854850727789533767145056201790649187428596482527989174039504929457596446765045572098162660537390258605574176517763399601\n"
     ]
    }
   ],
   "source": [
    "# Display the generated keys\n",
    "print(\"=== RSA Key Generation ===\")\n",
    "print(\"Public Key (e, n):\")\n",
    "print(\"e =\", e)\n",
    "print(\"n =\", n)\n",
    "print(\"\\nPrivate Key (d, n):\")\n",
    "print(\"d =\", d)"
   ]
  },
  {
   "cell_type": "markdown",
   "metadata": {},
   "source": [
    "### Primality Testing\n",
    "\n",
    "This code implements the Miller-Rabin primality test. The function \"power\" efficiently computes modular exponentiation, and \"strong_pseudoprimality_test\" runs rounds of testing with random bases. If a chosen base fails to confirm a number as a strong pseudoprime, the function returns \"composite\"; otherwise, it concludes that the given number is a strong pseudoprime. The purpose is to confirm that $p$ and $q$ are safe primes."
   ]
  },
  {
   "cell_type": "code",
   "execution_count": 253,
   "metadata": {
    "id": "jlI-PgQx71GC"
   },
   "outputs": [],
   "source": [
    "import random\n",
    "\n",
    "def power(a, d, n):\n",
    "    result = 1\n",
    "    a %= n\n",
    "    while d > 0:\n",
    "        if d % 2 == 1:\n",
    "            result = (result * a) % n\n",
    "        a = (a * a) % n\n",
    "        d //= 2\n",
    "    return result\n",
    "\n",
    "def strong_pseudoprimality_test(n, k):\n",
    "    if n == 2 or n == 3:\n",
    "        return \"strong pseudoprime\"\n",
    "    if n <= 1 or n % 2 == 0:\n",
    "        return \"composite\"\n",
    "\n",
    "    # Find (s, r) pair such that n - 1 = 2**s * r\n",
    "    s = 0\n",
    "    r = n - 1\n",
    "    while r % 2 == 0:\n",
    "        s += 1\n",
    "        r //= 2\n",
    "\n",
    "    for _ in range(k):\n",
    "        a = random.randrange(2, n - 1)\n",
    "        x = power(a, r, n)\n",
    "        if x == 1 or x == n - 1:\n",
    "            continue\n",
    "        for _ in range(s - 1):\n",
    "            x = power(x, 2, n)\n",
    "            if x == n - 1:\n",
    "                break\n",
    "        else:\n",
    "            # Test failed\n",
    "            return \"composite\"\n",
    "    return \"strong pseudoprime\" # Test passed"
   ]
  },
  {
   "cell_type": "code",
   "execution_count": 254,
   "metadata": {
    "id": "K173JeqE74D6"
   },
   "outputs": [
    {
     "name": "stdout",
     "output_type": "stream",
     "text": [
      "p is a strong pseudoprime\n",
      "q is a strong pseudoprime\n"
     ]
    }
   ],
   "source": [
    "# Verifying the primality of p and q\n",
    "k = 30 # Number of iterations\n",
    "print(\"p is a\", strong_pseudoprimality_test(p, k))\n",
    "print(\"q is a\", strong_pseudoprimality_test(q, k))"
   ]
  },
  {
   "cell_type": "markdown",
   "metadata": {},
   "source": [
    "### Encrypting a Message"
   ]
  },
  {
   "cell_type": "markdown",
   "metadata": {},
   "source": [
    "Here, we convert a numeric string representing the message into an integer, then encrypt it using RSA by computing $c = m^e \\mod n$ (with previously computed $e$ and $n$)."
   ]
  },
  {
   "cell_type": "code",
   "execution_count": 256,
   "metadata": {
    "id": "F2Lz8Jyv7_UM"
   },
   "outputs": [
    {
     "name": "stdout",
     "output_type": "stream",
     "text": [
      "Encrypted ciphertext:\n",
      "133123132256505212203474499063979092107547536898253259238878904608663275562746961871619361180963650741701610308803026814758562312084734709888259447513920029442899349095343828436070053247385352805599469643927933923310123779511142730871040872507566040256305388479099579189125453890652401549565388664440772728770582738067810238858610802796795655445223022446691792515326295896540252497937011540289110282927698484513627801483770631376130531359390956316326950245750748420939009334738722496398422954137710164668918249757145787530489063578703722264703376393621900383661251734317443918352726869244558493035490602900378349434773192863271407707139069711706363053865155621560853028664691738130767621145771357761304995481851356684194120152275042832598487829504253819327828574886297524153888344863782036073806554085887006035027529929992412091210162484618992255952938017551580192234830779137359120411907908383272293652341929810389534366418284884460576461574409638638208768670053601950429639784542259101724131671768634378001992293398853442643183121630065479120283988354181740959521968114540549928897276099613686545886577969998225276871947076925766423452617608320082657872906811650679757382859810272824958447283778358\n"
     ]
    }
   ],
   "source": [
    "# Your given message value as a numeric string:\n",
    "message_str = \"1819370023350024112315001929002025182400112414001900112300172211140035253100181132150014151325141514003018150023152929111715380019002031293000331124300030250033192918003525310033152222001129003525310017250011122531300030181500232524301800251600231128131838\"\n",
    "\n",
    "\n",
    "# Convert the message string to an integer\n",
    "m_int = int(message_str)\n",
    "\n",
    "# Encrypt the message using RSA encryption: ciphertext = m^e mod n\n",
    "# (Assuming e and n have already been computed)\n",
    "ciphertext = pow(m_int, e, n)\n",
    "\n",
    "print(\"Encrypted ciphertext:\")\n",
    "print(ciphertext)\n"
   ]
  },
  {
   "cell_type": "markdown",
   "metadata": {},
   "source": [
    "### Decrypting the Encoded Message"
   ]
  },
  {
   "cell_type": "markdown",
   "metadata": {
    "jp-MarkdownHeadingCollapsed": true
   },
   "source": [
    "We go on to decrypt the RSA ciphertext by computing $ m = c^d \\mod n $, convert the resulting integer into a string, and print the decrypted message."
   ]
  },
  {
   "cell_type": "code",
   "execution_count": 258,
   "metadata": {
    "id": "DpedDgin8Quy"
   },
   "outputs": [
    {
     "name": "stdout",
     "output_type": "stream",
     "text": [
      "Decrypted message (as string): 1819370023350024112315001929002025182400112414001900112300172211140035253100181132150014151325141514003018150023152929111715380019002031293000331124300030250033192918003525310033152222001129003525310017250011122531300030181500232524301800251600231128131838\n"
     ]
    }
   ],
   "source": [
    "# Decrypt the ciphertext using RSA decryption: m = c^d mod n\n",
    "decrypted_message_int = pow(ciphertext, d, n)\n",
    "decrypted_message_str = str(decrypted_message_int)\n",
    "print(\"Decrypted message (as string):\", decrypted_message_str)"
   ]
  },
  {
   "cell_type": "markdown",
   "metadata": {},
   "source": [
    "Finally, we define a mapping from two-digit codes to characters, converts the decrypted integer into a string (padding with a leading zero if needed), splits it into two-digit groups, translates each group using the mapping, and prints the resulting decoded message."
   ]
  },
  {
   "cell_type": "code",
   "execution_count": 259,
   "metadata": {
    "id": "qaTKo7gE8RVR"
   },
   "outputs": [
    {
     "name": "stdout",
     "output_type": "stream",
     "text": [
      "Decoded message: HI, MY NAME IS JOHN AND I AM GLAD YOU HAVE DECODED THE MESSAGE. I JUST WANT TO WISH YOU WELL AS YOU GO ABOUT THE MONTH OF MARCH.\n"
     ]
    }
   ],
   "source": [
    "# Define the custom mapping for two-digit codes\n",
    "char_map = {\n",
    "    \"00\": \" \",\n",
    "    \"11\": \"A\", \"12\": \"B\", \"13\": \"C\", \"14\": \"D\", \"15\": \"E\", \"16\": \"F\",\n",
    "    \"17\": \"G\", \"18\": \"H\", \"19\": \"I\", \"20\": \"J\", \"21\": \"K\", \"22\": \"L\",\n",
    "    \"23\": \"M\", \"24\": \"N\", \"25\": \"O\", \"26\": \"P\", \"27\": \"Q\", \"28\": \"R\",\n",
    "    \"29\": \"S\", \"30\": \"T\", \"31\": \"U\", \"32\": \"V\", \"33\": \"W\", \"34\": \"X\",\n",
    "    \"35\": \"Y\", \"36\": \"Z\", \"37\": \",\", \"38\": \".\"\n",
    "}\n",
    "\n",
    "# Convert the decrypted integer to a string.\n",
    "decrypted_str = str(decrypted_message_int)\n",
    "\n",
    "# Ensure the string has an even number of digits; pad with a leading zero if necessary.\n",
    "if len(decrypted_str) % 2 != 0:\n",
    "    decrypted_str = \"0\" + decrypted_str\n",
    "\n",
    "# Decode the message by processing two digits at a time.\n",
    "decoded_message = \"\"\n",
    "for i in range(0, len(decrypted_str), 2):\n",
    "    # Extract a two-digit code\n",
    "    code = decrypted_str[i:i+2]\n",
    "    # Lookup the corresponding character; use '?' if the code is not found\n",
    "    decoded_message += char_map.get(code, \"?\")\n",
    "\n",
    "print(\"Decoded message:\", decoded_message)\n"
   ]
  },
  {
   "cell_type": "markdown",
   "metadata": {},
   "source": [
    "## Conclusion\n",
    "We have now successfully implemented the entire RSA process. We generated 600-digit safe primes, computed the RSA modulus and Euler’s totient function, and derived both the public and private keys. Using these keys, we encrypted a numeric message and then decrypted it back to its original encoded form. Finally, by applying our custom two-digit mapping, we decoded the message to reveal:\n",
    "\n",
    "**HI, MY NAME IS JOHN AND I AM GLAD YOU HAVE DECODED THE MESSAGE. I JUST WANT TO WISH YOU WELL AS YOU GO ABOUT THE MONTH OF MARCH.**"
   ]
  }
 ],
 "metadata": {
  "colab": {
   "provenance": []
  },
  "kernelspec": {
   "display_name": "Python 3 (ipykernel)",
   "language": "python",
   "name": "python3"
  },
  "language_info": {
   "codemirror_mode": {
    "name": "ipython",
    "version": 3
   },
   "file_extension": ".py",
   "mimetype": "text/x-python",
   "name": "python",
   "nbconvert_exporter": "python",
   "pygments_lexer": "ipython3",
   "version": "3.12.4"
  }
 },
 "nbformat": 4,
 "nbformat_minor": 4
}
